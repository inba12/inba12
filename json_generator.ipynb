{
  "cells": [
    {
      "cell_type": "markdown",
      "metadata": {
        "id": "view-in-github",
        "colab_type": "text"
      },
      "source": [
        "<a href=\"https://colab.research.google.com/github/inbarasuvs/Application_Dev/blob/main/json_generator.ipynb\" target=\"_parent\"><img src=\"https://colab.research.google.com/assets/colab-badge.svg\" alt=\"Open In Colab\"/></a>"
      ]
    },
    {
      "cell_type": "code",
      "execution_count": 1,
      "metadata": {
        "colab": {
          "base_uri": "https://localhost:8080/"
        },
        "id": "GhFp7TpEN4O-",
        "outputId": "ec84da12-8404-48aa-9ac0-6ad46844fb0a"
      },
      "outputs": [
        {
          "output_type": "stream",
          "name": "stdout",
          "text": [
            "Requirement already satisfied: pandas in /usr/local/lib/python3.10/dist-packages (2.2.2)\n",
            "Collecting streamlit\n",
            "  Downloading streamlit-1.41.1-py2.py3-none-any.whl.metadata (8.5 kB)\n",
            "Requirement already satisfied: openpyxl in /usr/local/lib/python3.10/dist-packages (3.1.5)\n",
            "Collecting pyngrok\n",
            "  Downloading pyngrok-7.2.2-py3-none-any.whl.metadata (8.4 kB)\n",
            "Requirement already satisfied: numpy>=1.22.4 in /usr/local/lib/python3.10/dist-packages (from pandas) (1.26.4)\n",
            "Requirement already satisfied: python-dateutil>=2.8.2 in /usr/local/lib/python3.10/dist-packages (from pandas) (2.8.2)\n",
            "Requirement already satisfied: pytz>=2020.1 in /usr/local/lib/python3.10/dist-packages (from pandas) (2024.2)\n",
            "Requirement already satisfied: tzdata>=2022.7 in /usr/local/lib/python3.10/dist-packages (from pandas) (2024.2)\n",
            "Requirement already satisfied: altair<6,>=4.0 in /usr/local/lib/python3.10/dist-packages (from streamlit) (5.5.0)\n",
            "Requirement already satisfied: blinker<2,>=1.0.0 in /usr/local/lib/python3.10/dist-packages (from streamlit) (1.9.0)\n",
            "Requirement already satisfied: cachetools<6,>=4.0 in /usr/local/lib/python3.10/dist-packages (from streamlit) (5.5.0)\n",
            "Requirement already satisfied: click<9,>=7.0 in /usr/local/lib/python3.10/dist-packages (from streamlit) (8.1.7)\n",
            "Requirement already satisfied: packaging<25,>=20 in /usr/local/lib/python3.10/dist-packages (from streamlit) (24.2)\n",
            "Requirement already satisfied: pillow<12,>=7.1.0 in /usr/local/lib/python3.10/dist-packages (from streamlit) (11.0.0)\n",
            "Requirement already satisfied: protobuf<6,>=3.20 in /usr/local/lib/python3.10/dist-packages (from streamlit) (4.25.5)\n",
            "Requirement already satisfied: pyarrow>=7.0 in /usr/local/lib/python3.10/dist-packages (from streamlit) (17.0.0)\n",
            "Requirement already satisfied: requests<3,>=2.27 in /usr/local/lib/python3.10/dist-packages (from streamlit) (2.32.3)\n",
            "Requirement already satisfied: rich<14,>=10.14.0 in /usr/local/lib/python3.10/dist-packages (from streamlit) (13.9.4)\n",
            "Requirement already satisfied: tenacity<10,>=8.1.0 in /usr/local/lib/python3.10/dist-packages (from streamlit) (9.0.0)\n",
            "Requirement already satisfied: toml<2,>=0.10.1 in /usr/local/lib/python3.10/dist-packages (from streamlit) (0.10.2)\n",
            "Requirement already satisfied: typing-extensions<5,>=4.3.0 in /usr/local/lib/python3.10/dist-packages (from streamlit) (4.12.2)\n",
            "Collecting watchdog<7,>=2.1.5 (from streamlit)\n",
            "  Downloading watchdog-6.0.0-py3-none-manylinux2014_x86_64.whl.metadata (44 kB)\n",
            "\u001b[2K     \u001b[90m━━━━━━━━━━━━━━━━━━━━━━━━━━━━━━━━━━━━━━━━\u001b[0m \u001b[32m44.3/44.3 kB\u001b[0m \u001b[31m1.9 MB/s\u001b[0m eta \u001b[36m0:00:00\u001b[0m\n",
            "\u001b[?25hRequirement already satisfied: gitpython!=3.1.19,<4,>=3.0.7 in /usr/local/lib/python3.10/dist-packages (from streamlit) (3.1.43)\n",
            "Collecting pydeck<1,>=0.8.0b4 (from streamlit)\n",
            "  Downloading pydeck-0.9.1-py2.py3-none-any.whl.metadata (4.1 kB)\n",
            "Requirement already satisfied: tornado<7,>=6.0.3 in /usr/local/lib/python3.10/dist-packages (from streamlit) (6.3.3)\n",
            "Requirement already satisfied: et-xmlfile in /usr/local/lib/python3.10/dist-packages (from openpyxl) (2.0.0)\n",
            "Requirement already satisfied: PyYAML>=5.1 in /usr/local/lib/python3.10/dist-packages (from pyngrok) (6.0.2)\n",
            "Requirement already satisfied: jinja2 in /usr/local/lib/python3.10/dist-packages (from altair<6,>=4.0->streamlit) (3.1.4)\n",
            "Requirement already satisfied: jsonschema>=3.0 in /usr/local/lib/python3.10/dist-packages (from altair<6,>=4.0->streamlit) (4.23.0)\n",
            "Requirement already satisfied: narwhals>=1.14.2 in /usr/local/lib/python3.10/dist-packages (from altair<6,>=4.0->streamlit) (1.18.4)\n",
            "Requirement already satisfied: gitdb<5,>=4.0.1 in /usr/local/lib/python3.10/dist-packages (from gitpython!=3.1.19,<4,>=3.0.7->streamlit) (4.0.11)\n",
            "Requirement already satisfied: six>=1.5 in /usr/local/lib/python3.10/dist-packages (from python-dateutil>=2.8.2->pandas) (1.17.0)\n",
            "Requirement already satisfied: charset-normalizer<4,>=2 in /usr/local/lib/python3.10/dist-packages (from requests<3,>=2.27->streamlit) (3.4.0)\n",
            "Requirement already satisfied: idna<4,>=2.5 in /usr/local/lib/python3.10/dist-packages (from requests<3,>=2.27->streamlit) (3.10)\n",
            "Requirement already satisfied: urllib3<3,>=1.21.1 in /usr/local/lib/python3.10/dist-packages (from requests<3,>=2.27->streamlit) (2.2.3)\n",
            "Requirement already satisfied: certifi>=2017.4.17 in /usr/local/lib/python3.10/dist-packages (from requests<3,>=2.27->streamlit) (2024.12.14)\n",
            "Requirement already satisfied: markdown-it-py>=2.2.0 in /usr/local/lib/python3.10/dist-packages (from rich<14,>=10.14.0->streamlit) (3.0.0)\n",
            "Requirement already satisfied: pygments<3.0.0,>=2.13.0 in /usr/local/lib/python3.10/dist-packages (from rich<14,>=10.14.0->streamlit) (2.18.0)\n",
            "Requirement already satisfied: smmap<6,>=3.0.1 in /usr/local/lib/python3.10/dist-packages (from gitdb<5,>=4.0.1->gitpython!=3.1.19,<4,>=3.0.7->streamlit) (5.0.1)\n",
            "Requirement already satisfied: MarkupSafe>=2.0 in /usr/local/lib/python3.10/dist-packages (from jinja2->altair<6,>=4.0->streamlit) (3.0.2)\n",
            "Requirement already satisfied: attrs>=22.2.0 in /usr/local/lib/python3.10/dist-packages (from jsonschema>=3.0->altair<6,>=4.0->streamlit) (24.3.0)\n",
            "Requirement already satisfied: jsonschema-specifications>=2023.03.6 in /usr/local/lib/python3.10/dist-packages (from jsonschema>=3.0->altair<6,>=4.0->streamlit) (2024.10.1)\n",
            "Requirement already satisfied: referencing>=0.28.4 in /usr/local/lib/python3.10/dist-packages (from jsonschema>=3.0->altair<6,>=4.0->streamlit) (0.35.1)\n",
            "Requirement already satisfied: rpds-py>=0.7.1 in /usr/local/lib/python3.10/dist-packages (from jsonschema>=3.0->altair<6,>=4.0->streamlit) (0.22.3)\n",
            "Requirement already satisfied: mdurl~=0.1 in /usr/local/lib/python3.10/dist-packages (from markdown-it-py>=2.2.0->rich<14,>=10.14.0->streamlit) (0.1.2)\n",
            "Downloading streamlit-1.41.1-py2.py3-none-any.whl (9.1 MB)\n",
            "\u001b[2K   \u001b[90m━━━━━━━━━━━━━━━━━━━━━━━━━━━━━━━━━━━━━━━━\u001b[0m \u001b[32m9.1/9.1 MB\u001b[0m \u001b[31m38.3 MB/s\u001b[0m eta \u001b[36m0:00:00\u001b[0m\n",
            "\u001b[?25hDownloading pyngrok-7.2.2-py3-none-any.whl (22 kB)\n",
            "Downloading pydeck-0.9.1-py2.py3-none-any.whl (6.9 MB)\n",
            "\u001b[2K   \u001b[90m━━━━━━━━━━━━━━━━━━━━━━━━━━━━━━━━━━━━━━━━\u001b[0m \u001b[32m6.9/6.9 MB\u001b[0m \u001b[31m52.6 MB/s\u001b[0m eta \u001b[36m0:00:00\u001b[0m\n",
            "\u001b[?25hDownloading watchdog-6.0.0-py3-none-manylinux2014_x86_64.whl (79 kB)\n",
            "\u001b[2K   \u001b[90m━━━━━━━━━━━━━━━━━━━━━━━━━━━━━━━━━━━━━━━━\u001b[0m \u001b[32m79.1/79.1 kB\u001b[0m \u001b[31m7.3 MB/s\u001b[0m eta \u001b[36m0:00:00\u001b[0m\n",
            "\u001b[?25hInstalling collected packages: watchdog, pyngrok, pydeck, streamlit\n",
            "Successfully installed pydeck-0.9.1 pyngrok-7.2.2 streamlit-1.41.1 watchdog-6.0.0\n"
          ]
        }
      ],
      "source": [
        "# Install necessary libraries\n",
        "!pip install pandas streamlit openpyxl pyngrok\n"
      ]
    },
    {
      "cell_type": "code",
      "execution_count": null,
      "metadata": {
        "colab": {
          "base_uri": "https://localhost:8080/"
        },
        "id": "2XJPocc4N-U7",
        "outputId": "11958327-fec8-4b6f-b3f1-90148f0c3ccb"
      },
      "outputs": [
        {
          "name": "stdout",
          "output_type": "stream",
          "text": [
            "Writing app.py\n"
          ]
        }
      ],
      "source": [
        "%%writefile app.py\n",
        "import pandas as pd\n",
        "import streamlit as st\n",
        "from pyngrok import ngrok\n",
        "\n",
        "# Streamlit app\n",
        "st.set_page_config(page_title=\"Enhanced Excel/CSV to JSON Converter\", layout=\"wide\")\n",
        "\n",
        "st.title('Enhanced Excel/CSV to JSON Converter')\n",
        "\n",
        "# File uploader\n",
        "uploaded_file = st.file_uploader(\"Choose an Excel or CSV file\", type=[\"xlsx\", \"csv\"])\n",
        "\n",
        "# Conversion options\n",
        "conversion_type = st.radio(\"Convert by:\", ('Row', 'Column'))\n",
        "\n",
        "# Custom JSON formatting options\n",
        "indent = st.slider(\"Indentation Level\", 0, 4, 2)\n",
        "\n",
        "if uploaded_file is not None:\n",
        "    try:\n",
        "        # Load file based on type\n",
        "        if uploaded_file.name.endswith('.xlsx'):\n",
        "            df = pd.read_excel(uploaded_file, sheet_name=None)\n",
        "            sheet_names = df.keys()\n",
        "            sheet = st.selectbox(\"Select sheet\", sheet_names)\n",
        "            data = df[sheet]\n",
        "        else:\n",
        "            data = pd.read_csv(uploaded_file)\n",
        "\n",
        "        # Display data preview with pagination\n",
        "        st.write(\"Data Preview:\")\n",
        "        rows_per_page = st.slider(\"Rows per page\", 5, 100, 10)\n",
        "        total_rows = data.shape[0]\n",
        "        page_number = st.number_input(\"Page number\", min_value=1, max_value=(total_rows // rows_per_page) + 1, step=1)\n",
        "        start_row = (page_number - 1) * rows_per_page\n",
        "        end_row = start_row + rows_per_page\n",
        "        st.dataframe(data.iloc[start_row:end_row])\n",
        "\n",
        "        # Data filtering options\n",
        "        columns = st.multiselect(\"Select columns to include\", data.columns.tolist(), default=data.columns.tolist())\n",
        "        filtered_data = data[columns]\n",
        "\n",
        "        # Convert to JSON\n",
        "        with st.spinner('Converting...'):\n",
        "            if conversion_type == 'Row':\n",
        "                result = filtered_data.to_json(orient='records', indent=indent)\n",
        "            else:\n",
        "                result = filtered_data.to_json(orient='index', indent=indent)\n",
        "\n",
        "        st.success('Conversion successful!')\n",
        "        st.download_button(label=\"Download JSON\", data=result, file_name='converted.json', mime='application/json')\n",
        "\n",
        "    except Exception as e:\n",
        "        st.error(f\"Error: {e}\")"
      ]
    },
    {
      "cell_type": "code",
      "execution_count": null,
      "metadata": {
        "colab": {
          "base_uri": "https://localhost:8080/"
        },
        "id": "ogQcZSx7O1I7",
        "outputId": "0b3bb6d9-ae9c-49c1-970f-a472755bc083"
      },
      "outputs": [
        {
          "name": "stdout",
          "output_type": "stream",
          "text": [
            "Writing app1.py\n"
          ]
        }
      ],
      "source": [
        "%%writefile app1.py\n",
        "\n",
        "import pandas as pd\n",
        "import streamlit as st\n",
        "from pyngrok import ngrok\n",
        "\n",
        "# Streamlit app\n",
        "st.set_page_config(page_title=\"Enhanced Excel/CSV to JSON Converter\", layout=\"wide\")\n",
        "\n",
        "st.title('Enhanced Excel/CSV to JSON Converter')\n",
        "\n",
        "# File uploader\n",
        "uploaded_file = st.file_uploader(\"Choose an Excel or CSV file\", type=[\"xlsx\", \"csv\"])\n",
        "\n",
        "# Conversion options\n",
        "conversion_type = st.radio(\"Convert by:\", ('Row', 'Column'))\n",
        "\n",
        "# Custom JSON formatting options\n",
        "indent = st.slider(\"Indentation Level\", 0, 4, 2)\n",
        "\n",
        "if uploaded_file is not None:\n",
        "    try:\n",
        "        # Load file based on type\n",
        "        if uploaded_file.name.endswith('.xlsx'):\n",
        "            df = pd.read_excel(uploaded_file, sheet_name=None)\n",
        "            sheet_names = df.keys()\n",
        "            sheet = st.selectbox(\"Select sheet\", sheet_names)\n",
        "            data = df[sheet]\n",
        "        else:\n",
        "            data = pd.read_csv(uploaded_file)\n",
        "\n",
        "        # Display data preview with pagination\n",
        "        st.write(\"Data Preview:\")\n",
        "        rows_per_page = st.slider(\"Rows per page\", 5, 100, 10)\n",
        "        total_rows = data.shape[0]\n",
        "        page_number = st.number_input(\"Page number\", min_value=1, max_value=(total_rows // rows_per_page) + 1, step=1)\n",
        "        start_row = (page_number - 1) * rows_per_page\n",
        "        end_row = start_row + rows_per_page\n",
        "        st.dataframe(data.iloc[start_row:end_row])\n",
        "\n",
        "        # Data filtering options\n",
        "        columns = st.multiselect(\"Select columns to include\", data.columns.tolist(), default=data.columns.tolist())\n",
        "        filtered_data = data[columns]\n",
        "\n",
        "        # Convert to JSON with nested structure support\n",
        "        def convert_to_custom_json(df):\n",
        "            result = []\n",
        "            for _, row in df.iterrows():\n",
        "                item = {\n",
        "                    \"id\": row.get(\"id\"),\n",
        "                    \"event\": row.get(\"event\"),\n",
        "                    \"abbreviation\": row.get(\"abbreviation\"),\n",
        "                    \"type\": row.get(\"type\"),\n",
        "                    \"enabled\": row.get(\"enabled\"),\n",
        "                    \"value\": row.get(\"value\"),\n",
        "                    \"flags\": row.get(\"flags\"),\n",
        "                    \"is_conversion\": row.get(\"is_conversion\"),\n",
        "                    \"is_error\": row.get(\"is_error\"),\n",
        "                    \"is_order_number\": row.get(\"is_order_number\"),\n",
        "                    \"promoted_event_value\": row.get(\"promoted_event_value\"),\n",
        "                    \"multiple_in_hit\": row.get(\"multiple_in_hit\"),\n",
        "                    \"multiple_in_session\": row.get(\"multiple_in_session\"),\n",
        "                    \"created\": row.get(\"created\"),\n",
        "                    \"updated\": row.get(\"updated\"),\n",
        "                    \"is_regex_url\": row.get(\"is_regex_url\"),\n",
        "                    \"display_in_ui\": row.get(\"display_in_ui\"),\n",
        "                    \"is_numeric\": row.get(\"is_numeric\"),\n",
        "                    \"description\": row.get(\"description\"),\n",
        "                    \"requesting_user_id\": row.get(\"requesting_user_id\"),\n",
        "                    \"event_schema\": row.get(\"event_schema\"),\n",
        "                    \"example_payload\": row.get(\"example_payload\"),\n",
        "                    \"user_modified\": row.get(\"user_modified\"),\n",
        "                    \"user_creator\": row.get(\"user_creator\"),\n",
        "                    \"config\": {\n",
        "                        \"f\": row.get(\"config_f\"),\n",
        "                        \"i\": row.get(\"config_i\"),\n",
        "                        \"evalAlways\": row.get(\"config_evalAlways\"),\n",
        "                        \"m\": row.get(\"config_m\"),\n",
        "                        \"s\": row.get(\"config_s\"),\n",
        "                        \"u\": row.get(\"config_u\"),\n",
        "                        \"v\": {\n",
        "                            \"t\": row.get(\"config_v_t\"),\n",
        "                            \"v\": row.get(\"config_v_v\")\n",
        "                        },\n",
        "                        \"x\": row.get(\"config_x\"),\n",
        "                        \"sessionInfoReq\": row.get(\"config_sessionInfoReq\"),\n",
        "                        \"excludeBlank\": row.get(\"config_excludeBlank\")\n",
        "                    }\n",
        "                }\n",
        "                result.append(item)\n",
        "            return result\n",
        "\n",
        "        with st.spinner('Converting...'):\n",
        "            custom_json = convert_to_custom_json(filtered_data)\n",
        "            result = pd.DataFrame(custom_json).to_json(orient='records', indent=indent)\n",
        "\n",
        "        st.success('Conversion successful!')\n",
        "        st.download_button(label=\"Download JSON\", data=result, file_name='converted.json', mime='application/json')\n",
        "\n",
        "    except Exception as e:\n",
        "        st.error(f\"Error: {e}\")\n"
      ]
    },
    {
      "cell_type": "code",
      "execution_count": null,
      "metadata": {
        "id": "uTlvAkhtOIgg"
      },
      "outputs": [],
      "source": [
        "! pip install streamlit -q\n",
        "!wget -q -O - ipv4.icanhazip.com\n",
        "! streamlit run app.py & npx localtunnel --port 8501"
      ]
    },
    {
      "cell_type": "code",
      "execution_count": null,
      "metadata": {
        "colab": {
          "background_save": true
        },
        "id": "Vz9WlLLxPAoL"
      },
      "outputs": [],
      "source": [
        "! pip install streamlit -q\n",
        "!wget -q -O - ipv4.icanhazip.com\n",
        "! streamlit run app1.py & npx localtunnel --port 8501"
      ]
    }
  ],
  "metadata": {
    "colab": {
      "provenance": [],
      "include_colab_link": true
    },
    "kernelspec": {
      "display_name": "Python 3",
      "name": "python3"
    },
    "language_info": {
      "name": "python"
    }
  },
  "nbformat": 4,
  "nbformat_minor": 0
}